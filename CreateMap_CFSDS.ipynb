{
  "nbformat": 4,
  "nbformat_minor": 0,
  "metadata": {
    "colab": {
      "provenance": []
    },
    "kernelspec": {
      "name": "python3",
      "display_name": "Python 3"
    },
    "language_info": {
      "name": "python"
    }
  },
  "cells": [
    {
      "cell_type": "code",
      "execution_count": null,
      "metadata": {
        "colab": {
          "base_uri": "https://localhost:8080/"
        },
        "id": "sPZwxoqXocbM",
        "outputId": "63291098-4eb1-4e5f-bc2e-eb6b26eaa256"
      },
      "outputs": [
        {
          "output_type": "stream",
          "name": "stdout",
          "text": [
            "Requirement already satisfied: folium in /usr/local/lib/python3.11/dist-packages (0.19.4)\n",
            "Requirement already satisfied: branca>=0.6.0 in /usr/local/lib/python3.11/dist-packages (from folium) (0.8.1)\n",
            "Requirement already satisfied: jinja2>=2.9 in /usr/local/lib/python3.11/dist-packages (from folium) (3.1.5)\n",
            "Requirement already satisfied: numpy in /usr/local/lib/python3.11/dist-packages (from folium) (1.26.4)\n",
            "Requirement already satisfied: requests in /usr/local/lib/python3.11/dist-packages (from folium) (2.32.3)\n",
            "Requirement already satisfied: xyzservices in /usr/local/lib/python3.11/dist-packages (from folium) (2025.1.0)\n",
            "Requirement already satisfied: MarkupSafe>=2.0 in /usr/local/lib/python3.11/dist-packages (from jinja2>=2.9->folium) (3.0.2)\n",
            "Requirement already satisfied: charset-normalizer<4,>=2 in /usr/local/lib/python3.11/dist-packages (from requests->folium) (3.4.1)\n",
            "Requirement already satisfied: idna<4,>=2.5 in /usr/local/lib/python3.11/dist-packages (from requests->folium) (3.10)\n",
            "Requirement already satisfied: urllib3<3,>=1.21.1 in /usr/local/lib/python3.11/dist-packages (from requests->folium) (2.3.0)\n",
            "Requirement already satisfied: certifi>=2017.4.17 in /usr/local/lib/python3.11/dist-packages (from requests->folium) (2024.12.14)\n"
          ]
        }
      ],
      "source": [
        "!pip install folium"
      ]
    },
    {
      "cell_type": "code",
      "source": [
        "import folium\n",
        "from folium.plugins import MarkerCluster\n",
        "import pandas as pd\n",
        "\n",
        "filename = \"Firegrowth_groups_v1_01.csv\"\n"
      ],
      "metadata": {
        "id": "gZWKKmdmoikn"
      },
      "execution_count": null,
      "outputs": []
    },
    {
      "cell_type": "markdown",
      "source": [
        "## Creación de mapa para CFSDS"
      ],
      "metadata": {
        "id": "9SvC-2nKUKut"
      }
    },
    {
      "cell_type": "code",
      "source": [
        "df = pd.read_csv(filename)\n",
        "# Creación de mapa basado en datos geográficos (longitud, latitud)\n",
        "map_center = [df[\"lat\"].mean(), df[\"lon\"].mean()]\n",
        "fire_map = folium.Map(location=map_center, zoom_start=5, tiles=\"CartoDB positron\")\n",
        "\n",
        "# Create a marker cluster layer\n",
        "marker_cluster = MarkerCluster().add_to(fire_map)\n",
        "\n",
        "# Sample data to reduce overplotting\n",
        "sample_df = df.sample(n=1000, random_state=42)  # Select a subset for performance\n",
        "\n",
        "# Add markers to the map\n",
        "for _, row in sample_df.iterrows():\n",
        "    popup_info = f\"Fire ID: {row['ID']}<br>Ecozone: {row['ecozone']}<br>Fire Area: {row['firearea']} ha\"\n",
        "    folium.CircleMarker(\n",
        "        location=[row[\"lat\"], row[\"lon\"]],\n",
        "        radius=5,\n",
        "        color=\"red\",\n",
        "        fill=True,\n",
        "        fill_color=\"red\",\n",
        "        fill_opacity=0.6,\n",
        "        popup=popup_info,\n",
        "    ).add_to(marker_cluster)\n",
        "\n",
        "# Save the map as an HTML file\n",
        "map_path = \"fire_map.html\"\n",
        "fire_map.save(map_path)\n"
      ],
      "metadata": {
        "id": "Ub0bmOPkoio6"
      },
      "execution_count": null,
      "outputs": []
    },
    {
      "cell_type": "code",
      "source": [
        "map_path"
      ],
      "metadata": {
        "colab": {
          "base_uri": "https://localhost:8080/",
          "height": 35
        },
        "id": "4F9KrrL1oirX",
        "outputId": "f7ce656d-199d-444c-80cf-30b992cc0867"
      },
      "execution_count": null,
      "outputs": [
        {
          "output_type": "execute_result",
          "data": {
            "text/plain": [
              "'fire_map.html'"
            ],
            "application/vnd.google.colaboratory.intrinsic+json": {
              "type": "string"
            }
          },
          "metadata": {},
          "execution_count": 5
        }
      ]
    }
  ]
}